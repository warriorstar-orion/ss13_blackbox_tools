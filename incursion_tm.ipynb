{
 "cells": [
  {
   "cell_type": "code",
   "execution_count": 1,
   "id": "67337ba8-0748-4fc3-8cd2-b3d588b3af7d",
   "metadata": {},
   "outputs": [],
   "source": [
    "from datetime import date, datetime\n",
    "from decimal import Decimal\n",
    "import seaborn as sns\n",
    "from sqlalchemy import create_engine\n",
    "from sqlalchemy import select, and_\n",
    "from sqlalchemy.orm import Session\n",
    "\n",
    "import pandas as pd\n",
    "\n",
    "sns.set_theme()"
   ]
  },
  {
   "cell_type": "code",
   "execution_count": 2,
   "id": "23b8996b-2af6-47fa-b8c2-13794e454ffd",
   "metadata": {},
   "outputs": [],
   "source": [
    "import typed_settings as ts\n",
    "from paralysis.settings import ParalysisSettings\n",
    "from paralysis.model import Round, Feedback\n",
    "\n",
    "settings = ts.load(ParalysisSettings, appname=\"paralysis\", config_files=[\"prod.toml\"])"
   ]
  },
  {
   "cell_type": "code",
   "execution_count": 3,
   "id": "dd6a1622-e816-475c-97f6-83326e7896ae",
   "metadata": {},
   "outputs": [],
   "source": [
    "\n",
    "engine = create_engine(settings.connection_string)"
   ]
  },
  {
   "cell_type": "code",
   "execution_count": 4,
   "id": "f21877d5-40fe-455c-adf3-a9181498c36b",
   "metadata": {},
   "outputs": [],
   "source": [
    "query = select(Feedback).filter(Feedback.json.contains(\"Demon Incursion\"))"
   ]
  },
  {
   "cell_type": "code",
   "execution_count": 5,
   "id": "15db6c23-7d45-4131-a05f-0f0bcb4b03e8",
   "metadata": {},
   "outputs": [],
   "source": [
    "session = Session(engine)\n",
    "feedbacks = pd.DataFrame(session.execute(query).unique().scalars())"
   ]
  },
  {
   "cell_type": "code",
   "execution_count": 6,
   "id": "2c6398a5-1360-4c51-aa43-dada6d855124",
   "metadata": {},
   "outputs": [
    {
     "data": {
      "text/plain": [
       "<Fdbk Rnd#45171 biohazards>"
      ]
     },
     "execution_count": 6,
     "metadata": {},
     "output_type": "execute_result"
    }
   ],
   "source": [
    "feedbacks[0][0]"
   ]
  },
  {
   "cell_type": "code",
   "execution_count": 7,
   "id": "4de370b2-6b0c-4fd5-bb27-d301bc3bfc94",
   "metadata": {},
   "outputs": [],
   "source": [
    "round_ids = set([f.round_id for f in feedbacks[0]])"
   ]
  },
  {
   "cell_type": "code",
   "execution_count": 8,
   "id": "916bba03-578d-4b24-9342-dc4d98e7b31c",
   "metadata": {},
   "outputs": [
    {
     "data": {
      "text/plain": [
       "{45170,\n",
       " 45171,\n",
       " 45183,\n",
       " 45217,\n",
       " 45235,\n",
       " 45247,\n",
       " 45276,\n",
       " 45278,\n",
       " 45288,\n",
       " 45291,\n",
       " 45309,\n",
       " 45311,\n",
       " 45312,\n",
       " 45317,\n",
       " 45319,\n",
       " 45322,\n",
       " 45327,\n",
       " 45331,\n",
       " 45339,\n",
       " 45354,\n",
       " 45405,\n",
       " 45414,\n",
       " 45428,\n",
       " 45440,\n",
       " 45448}"
      ]
     },
     "execution_count": 8,
     "metadata": {},
     "output_type": "execute_result"
    }
   ],
   "source": [
    "round_ids"
   ]
  },
  {
   "cell_type": "code",
   "execution_count": 9,
   "id": "1f8b9ef5-5d51-4360-bec3-0a45a9989e5b",
   "metadata": {},
   "outputs": [],
   "source": [
    "query = select(Round).filter(Round.id.in_(round_ids))\n",
    "rounds = pd.DataFrame(session.execute(query).unique().scalars())"
   ]
  },
  {
   "cell_type": "code",
   "execution_count": 10,
   "id": "3a778a7d-5d66-457d-a9de-de589a4eae5e",
   "metadata": {},
   "outputs": [
    {
     "data": {
      "text/html": [
       "<div>\n",
       "<style scoped>\n",
       "    .dataframe tbody tr th:only-of-type {\n",
       "        vertical-align: middle;\n",
       "    }\n",
       "\n",
       "    .dataframe tbody tr th {\n",
       "        vertical-align: top;\n",
       "    }\n",
       "\n",
       "    .dataframe thead th {\n",
       "        text-align: right;\n",
       "    }\n",
       "</style>\n",
       "<table border=\"1\" class=\"dataframe\">\n",
       "  <thead>\n",
       "    <tr style=\"text-align: right;\">\n",
       "      <th></th>\n",
       "      <th>0</th>\n",
       "    </tr>\n",
       "  </thead>\n",
       "  <tbody>\n",
       "    <tr>\n",
       "      <th>0</th>\n",
       "      <td>&lt;Round#45170 [2025-06-21] Dynamic/EmeraldStation&gt;</td>\n",
       "    </tr>\n",
       "    <tr>\n",
       "      <th>1</th>\n",
       "      <td>&lt;Round#45171 [2025-06-22] Dynamic/CereStation&gt;</td>\n",
       "    </tr>\n",
       "    <tr>\n",
       "      <th>2</th>\n",
       "      <td>&lt;Round#45183 [2025-06-23] Dynamic/BoxStation&gt;</td>\n",
       "    </tr>\n",
       "    <tr>\n",
       "      <th>3</th>\n",
       "      <td>&lt;Round#45217 [2025-06-26] Dynamic/DeltaStation&gt;</td>\n",
       "    </tr>\n",
       "    <tr>\n",
       "      <th>4</th>\n",
       "      <td>&lt;Round#45235 [2025-06-28] Dynamic/BoxStation&gt;</td>\n",
       "    </tr>\n",
       "    <tr>\n",
       "      <th>5</th>\n",
       "      <td>&lt;Round#45247 [2025-06-29] Dynamic/MetaStation&gt;</td>\n",
       "    </tr>\n",
       "    <tr>\n",
       "      <th>6</th>\n",
       "      <td>&lt;Round#45276 [2025-07-01] Dynamic/EmeraldStation&gt;</td>\n",
       "    </tr>\n",
       "    <tr>\n",
       "      <th>7</th>\n",
       "      <td>&lt;Round#45278 [2025-07-02] Dynamic/MetaStation&gt;</td>\n",
       "    </tr>\n",
       "    <tr>\n",
       "      <th>8</th>\n",
       "      <td>&lt;Round#45288 [2025-07-03] Dynamic/MetaStation&gt;</td>\n",
       "    </tr>\n",
       "    <tr>\n",
       "      <th>9</th>\n",
       "      <td>&lt;Round#45291 [2025-07-03] Dynamic/DeltaStation&gt;</td>\n",
       "    </tr>\n",
       "    <tr>\n",
       "      <th>10</th>\n",
       "      <td>&lt;Round#45309 [2025-07-05] Dynamic/BoxStation&gt;</td>\n",
       "    </tr>\n",
       "    <tr>\n",
       "      <th>11</th>\n",
       "      <td>&lt;Round#45311 [2025-07-05] Dynamic/DeltaStation&gt;</td>\n",
       "    </tr>\n",
       "    <tr>\n",
       "      <th>12</th>\n",
       "      <td>&lt;Round#45312 [2025-07-05] Dynamic/EmeraldStation&gt;</td>\n",
       "    </tr>\n",
       "    <tr>\n",
       "      <th>13</th>\n",
       "      <td>&lt;Round#45317 [2025-07-05] Dynamic/BoxStation&gt;</td>\n",
       "    </tr>\n",
       "    <tr>\n",
       "      <th>14</th>\n",
       "      <td>&lt;Round#45319 [2025-07-05] Dynamic/EmeraldStation&gt;</td>\n",
       "    </tr>\n",
       "    <tr>\n",
       "      <th>15</th>\n",
       "      <td>&lt;Round#45322 [2025-07-06] Dynamic/DeltaStation&gt;</td>\n",
       "    </tr>\n",
       "    <tr>\n",
       "      <th>16</th>\n",
       "      <td>&lt;Round#45327 [2025-07-06] Dynamic/BoxStation&gt;</td>\n",
       "    </tr>\n",
       "    <tr>\n",
       "      <th>17</th>\n",
       "      <td>&lt;Round#45331 [2025-07-07] Dynamic/BoxStation&gt;</td>\n",
       "    </tr>\n",
       "    <tr>\n",
       "      <th>18</th>\n",
       "      <td>&lt;Round#45339 [2025-07-07] Dynamic/BoxStation&gt;</td>\n",
       "    </tr>\n",
       "    <tr>\n",
       "      <th>19</th>\n",
       "      <td>&lt;Round#45354 [2025-07-09] Dynamic/BoxStation&gt;</td>\n",
       "    </tr>\n",
       "    <tr>\n",
       "      <th>20</th>\n",
       "      <td>&lt;Round#45405 [2025-07-13] Dynamic/BoxStation&gt;</td>\n",
       "    </tr>\n",
       "    <tr>\n",
       "      <th>21</th>\n",
       "      <td>&lt;Round#45414 [2025-07-14] Dynamic/BoxStation&gt;</td>\n",
       "    </tr>\n",
       "    <tr>\n",
       "      <th>22</th>\n",
       "      <td>&lt;Round#45428 [2025-07-15] Dynamic/BoxStation&gt;</td>\n",
       "    </tr>\n",
       "    <tr>\n",
       "      <th>23</th>\n",
       "      <td>&lt;Round#45440 [2025-07-16] Dynamic/EmeraldStation&gt;</td>\n",
       "    </tr>\n",
       "    <tr>\n",
       "      <th>24</th>\n",
       "      <td>&lt;Round#45448 [2025-07-17] Dynamic/DeltaStation&gt;</td>\n",
       "    </tr>\n",
       "  </tbody>\n",
       "</table>\n",
       "</div>"
      ],
      "text/plain": [
       "                                                    0\n",
       "0   <Round#45170 [2025-06-21] Dynamic/EmeraldStation>\n",
       "1      <Round#45171 [2025-06-22] Dynamic/CereStation>\n",
       "2       <Round#45183 [2025-06-23] Dynamic/BoxStation>\n",
       "3     <Round#45217 [2025-06-26] Dynamic/DeltaStation>\n",
       "4       <Round#45235 [2025-06-28] Dynamic/BoxStation>\n",
       "5      <Round#45247 [2025-06-29] Dynamic/MetaStation>\n",
       "6   <Round#45276 [2025-07-01] Dynamic/EmeraldStation>\n",
       "7      <Round#45278 [2025-07-02] Dynamic/MetaStation>\n",
       "8      <Round#45288 [2025-07-03] Dynamic/MetaStation>\n",
       "9     <Round#45291 [2025-07-03] Dynamic/DeltaStation>\n",
       "10      <Round#45309 [2025-07-05] Dynamic/BoxStation>\n",
       "11    <Round#45311 [2025-07-05] Dynamic/DeltaStation>\n",
       "12  <Round#45312 [2025-07-05] Dynamic/EmeraldStation>\n",
       "13      <Round#45317 [2025-07-05] Dynamic/BoxStation>\n",
       "14  <Round#45319 [2025-07-05] Dynamic/EmeraldStation>\n",
       "15    <Round#45322 [2025-07-06] Dynamic/DeltaStation>\n",
       "16      <Round#45327 [2025-07-06] Dynamic/BoxStation>\n",
       "17      <Round#45331 [2025-07-07] Dynamic/BoxStation>\n",
       "18      <Round#45339 [2025-07-07] Dynamic/BoxStation>\n",
       "19      <Round#45354 [2025-07-09] Dynamic/BoxStation>\n",
       "20      <Round#45405 [2025-07-13] Dynamic/BoxStation>\n",
       "21      <Round#45414 [2025-07-14] Dynamic/BoxStation>\n",
       "22      <Round#45428 [2025-07-15] Dynamic/BoxStation>\n",
       "23  <Round#45440 [2025-07-16] Dynamic/EmeraldStation>\n",
       "24    <Round#45448 [2025-07-17] Dynamic/DeltaStation>"
      ]
     },
     "execution_count": 10,
     "metadata": {},
     "output_type": "execute_result"
    }
   ],
   "source": [
    "rounds"
   ]
  },
  {
   "cell_type": "code",
   "execution_count": 14,
   "id": "e2d5a938-379b-4499-beb3-fad16d9d1e77",
   "metadata": {},
   "outputs": [],
   "source": [
    "def get_data(row):\n",
    "    r = row[0]\n",
    "    biohazards = r.feedback(\"biohazards\")\n",
    "    if not biohazards:\n",
    "        return None\n",
    "    biohazard_pop_5min_interval = r.feedback(\"biohazard_pop_5min_interval\")\n",
    "    biohazard_starts = r.feedback(\"biohazard_starts\")\n",
    "    survived = biohazards.get(\"survived\", {})\n",
    "    defeated = biohazards.get(\"defeated\", {})\n",
    "    status = \"unknown\"\n",
    "    if \"Demon Incursion\" in survived:\n",
    "        status = \"survived\"\n",
    "    elif \"Demon Incursion\" in defeated:\n",
    "        status = \"defeated\"\n",
    "    pop = biohazard_pop_5min_interval[\"Demon Incursion\"]\n",
    "    start_time = 0\n",
    "    for start in biohazard_starts.values():\n",
    "        if start[\"type\"] == \"Demon Incursion\":\n",
    "            start_time = start[\"time_ds\"]\n",
    "    return pd.Series({\n",
    "        \"round_id\": r.id,\n",
    "        \"status\": status,\n",
    "        \"pop_5min_sampling\": pop,\n",
    "        \"start_time_minutes\": int(Decimal(start_time) / 10 / 60),\n",
    "    })"
   ]
  },
  {
   "cell_type": "code",
   "execution_count": 15,
   "id": "e085711d-ad9e-43b0-b9f8-1ecfe4f4f9d1",
   "metadata": {},
   "outputs": [],
   "source": [
    "df = rounds.apply(get_data, axis=1)"
   ]
  },
  {
   "cell_type": "code",
   "execution_count": 17,
   "id": "a95d31c9-00fa-4e26-942b-eba7eedc3b3e",
   "metadata": {},
   "outputs": [],
   "source": [
    "import matplotlib.pyplot as plt"
   ]
  },
  {
   "cell_type": "code",
   "execution_count": 25,
   "id": "92b724d0-11fb-4385-8f7b-565641af2b20",
   "metadata": {},
   "outputs": [],
   "source": [
    "df = df[df.round_id>0]"
   ]
  },
  {
   "cell_type": "code",
   "execution_count": 29,
   "id": "5334d582-7387-460c-a845-618c75f80dfa",
   "metadata": {},
   "outputs": [
    {
     "data": {
      "text/html": [
       "<div>\n",
       "<style scoped>\n",
       "    .dataframe tbody tr th:only-of-type {\n",
       "        vertical-align: middle;\n",
       "    }\n",
       "\n",
       "    .dataframe tbody tr th {\n",
       "        vertical-align: top;\n",
       "    }\n",
       "\n",
       "    .dataframe thead th {\n",
       "        text-align: right;\n",
       "    }\n",
       "</style>\n",
       "<table border=\"1\" class=\"dataframe\">\n",
       "  <thead>\n",
       "    <tr style=\"text-align: right;\">\n",
       "      <th></th>\n",
       "      <th>round_id</th>\n",
       "      <th>status</th>\n",
       "      <th>pop_5min_sampling</th>\n",
       "      <th>start_time_minutes</th>\n",
       "    </tr>\n",
       "  </thead>\n",
       "  <tbody>\n",
       "    <tr>\n",
       "      <th>14</th>\n",
       "      <td>45319.0</td>\n",
       "      <td>defeated</td>\n",
       "      <td>[0, 0, 0, 0, 0, 0, 0, 0, 0, 0, 0, 0, 0]</td>\n",
       "      <td>72.0</td>\n",
       "    </tr>\n",
       "    <tr>\n",
       "      <th>15</th>\n",
       "      <td>45322.0</td>\n",
       "      <td>defeated</td>\n",
       "      <td>[0, 0, 0, 0, 0, 0, 0, 0, 0, 0, 0, 0, 0, 0]</td>\n",
       "      <td>66.0</td>\n",
       "    </tr>\n",
       "    <tr>\n",
       "      <th>16</th>\n",
       "      <td>45327.0</td>\n",
       "      <td>defeated</td>\n",
       "      <td>[0, 4, 6, 9, 8, 8, 8, 10, 12, 10, 11, 0]</td>\n",
       "      <td>58.0</td>\n",
       "    </tr>\n",
       "    <tr>\n",
       "      <th>17</th>\n",
       "      <td>45331.0</td>\n",
       "      <td>survived</td>\n",
       "      <td>[0, 10, 10, 17, 15, 16, 18, 21, 20, 14, 4, 4, ...</td>\n",
       "      <td>64.0</td>\n",
       "    </tr>\n",
       "    <tr>\n",
       "      <th>18</th>\n",
       "      <td>45339.0</td>\n",
       "      <td>defeated</td>\n",
       "      <td>[0, 9, 9, 9, 5, 0, 0, 0, 0, 0, 0, 0, 0, 0, 0, 0]</td>\n",
       "      <td>56.0</td>\n",
       "    </tr>\n",
       "    <tr>\n",
       "      <th>19</th>\n",
       "      <td>45354.0</td>\n",
       "      <td>survived</td>\n",
       "      <td>[0, 8, 12, 18]</td>\n",
       "      <td>114.0</td>\n",
       "    </tr>\n",
       "    <tr>\n",
       "      <th>20</th>\n",
       "      <td>45405.0</td>\n",
       "      <td>survived</td>\n",
       "      <td>[0]</td>\n",
       "      <td>132.0</td>\n",
       "    </tr>\n",
       "    <tr>\n",
       "      <th>22</th>\n",
       "      <td>45428.0</td>\n",
       "      <td>survived</td>\n",
       "      <td>[0, 5, 7, 13, 13, 14, 15, 14, 17, 18, 20]</td>\n",
       "      <td>73.0</td>\n",
       "    </tr>\n",
       "    <tr>\n",
       "      <th>23</th>\n",
       "      <td>45440.0</td>\n",
       "      <td>survived</td>\n",
       "      <td>[0, 8, 10, 12, 13]</td>\n",
       "      <td>108.0</td>\n",
       "    </tr>\n",
       "    <tr>\n",
       "      <th>24</th>\n",
       "      <td>45448.0</td>\n",
       "      <td>survived</td>\n",
       "      <td>[0, 4]</td>\n",
       "      <td>122.0</td>\n",
       "    </tr>\n",
       "  </tbody>\n",
       "</table>\n",
       "</div>"
      ],
      "text/plain": [
       "    round_id    status                                  pop_5min_sampling  \\\n",
       "14   45319.0  defeated            [0, 0, 0, 0, 0, 0, 0, 0, 0, 0, 0, 0, 0]   \n",
       "15   45322.0  defeated         [0, 0, 0, 0, 0, 0, 0, 0, 0, 0, 0, 0, 0, 0]   \n",
       "16   45327.0  defeated           [0, 4, 6, 9, 8, 8, 8, 10, 12, 10, 11, 0]   \n",
       "17   45331.0  survived  [0, 10, 10, 17, 15, 16, 18, 21, 20, 14, 4, 4, ...   \n",
       "18   45339.0  defeated   [0, 9, 9, 9, 5, 0, 0, 0, 0, 0, 0, 0, 0, 0, 0, 0]   \n",
       "19   45354.0  survived                                     [0, 8, 12, 18]   \n",
       "20   45405.0  survived                                                [0]   \n",
       "22   45428.0  survived          [0, 5, 7, 13, 13, 14, 15, 14, 17, 18, 20]   \n",
       "23   45440.0  survived                                 [0, 8, 10, 12, 13]   \n",
       "24   45448.0  survived                                             [0, 4]   \n",
       "\n",
       "    start_time_minutes  \n",
       "14                72.0  \n",
       "15                66.0  \n",
       "16                58.0  \n",
       "17                64.0  \n",
       "18                56.0  \n",
       "19               114.0  \n",
       "20               132.0  \n",
       "22                73.0  \n",
       "23               108.0  \n",
       "24               122.0  "
      ]
     },
     "execution_count": 29,
     "metadata": {},
     "output_type": "execute_result"
    }
   ],
   "source": [
    "df.tail(10)"
   ]
  },
  {
   "cell_type": "code",
   "execution_count": 31,
   "id": "7c1d096d-5f07-4628-b7ae-e2f087855ff7",
   "metadata": {},
   "outputs": [
    {
     "data": {
      "image/png": "[encoded data removed]",
      "text/plain": [
       "<Figure size 640x480 with 1 Axes>"
      ]
     },
     "metadata": {},
     "output_type": "display_data"
    }
   ],
   "source": [
    "for i, row in df.tail(10).iterrows():\n",
    "    plt.plot(row['pop_5min_sampling'])"
   ]
  },
  {
   "cell_type": "code",
   "execution_count": null,
   "id": "3bb0e959-1481-4501-b399-de1ab2ceb7fc",
   "metadata": {},
   "outputs": [],
   "source": []
  }
 ],
 "metadata": {
  "kernelspec": {
   "display_name": "Python 3 (ipykernel)",
   "language": "python",
   "name": "python3"
  },
  "language_info": {
   "codemirror_mode": {
    "name": "ipython",
    "version": 3
   },
   "file_extension": ".py",
   "mimetype": "text/x-python",
   "name": "python",
   "nbconvert_exporter": "python",
   "pygments_lexer": "ipython3",
   "version": "3.13.1"
  }
 },
 "nbformat": 4,
 "nbformat_minor": 5
}
